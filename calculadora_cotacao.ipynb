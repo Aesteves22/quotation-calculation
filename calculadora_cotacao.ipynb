{
  "nbformat": 4,
  "nbformat_minor": 0,
  "metadata": {
    "colab": {
      "provenance": []
    },
    "kernelspec": {
      "name": "python3",
      "display_name": "Python 3"
    },
    "language_info": {
      "name": "python"
    }
  },
  "cells": [
    {
      "cell_type": "code",
      "execution_count": 42,
      "metadata": {
        "colab": {
          "base_uri": "https://localhost:8080/"
        },
        "collapsed": true,
        "id": "CFWqiO0pAg2i",
        "outputId": "d98ca85e-2f82-4909-a982-e40d2ee0e99b"
      },
      "outputs": [
        {
          "output_type": "stream",
          "name": "stdout",
          "text": [
            "Digite seu nome:João\n",
            "Olá João! Vamos calcular a cotação atual!\n",
            "Você deseja converter em Euro ou Dolar?Dolar\n",
            "Qual o valor que deseja converter?4200\n",
            "Você terá um total de 743.36 dolares\n",
            "Deseja realizar outra conversão? Digite \"sim\" para continuar ou \"não\" para sair: não\n",
            "Obrigado por utilizar nossa conversão, até a próxima!\n"
          ]
        }
      ],
      "source": [
        "#Solicitar nome do Usuário\n",
        "nome = input(\"Digite seu nome:\")\n",
        "print('Olá {}! Vamos calcular a cotação atual!'.format(nome))\n",
        "\n",
        "#Laço de repetição\n",
        "while True:\n",
        "\n",
        "  option = input('Você deseja converter em Euro ou Dolar?')\n",
        "  real = int(input('Qual o valor que deseja converter?'))\n",
        "  euro = real / 6.41\n",
        "  dolar = real / 5.65\n",
        "\n",
        "  if option =='Euro':\n",
        "    print('Você terá um total de {:.2f} euros'.format(euro))\n",
        "  elif option =='Dolar':\n",
        "    print('Você terá um total de {:.2f} dolares'.format(dolar))\n",
        "  else:\n",
        "    print('Digite um valor válido.')\n",
        "  repetir = input('Deseja realizar outra conversão? Digite \"sim\" para continuar ou \"não\" para sair: ').lower()\n",
        "  if repetir != \"sim\":\n",
        "    print('Obrigado por utilizar nossa conversão, até a próxima!')\n",
        "    break"
      ]
    }
  ]
}